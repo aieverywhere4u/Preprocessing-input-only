{
 "cells": [
  {
   "cell_type": "code",
   "execution_count": 1,
   "id": "389c200c-e5a7-432e-9a7b-7000055c4ed7",
   "metadata": {},
   "outputs": [],
   "source": [
    "import pickle"
   ]
  },
  {
   "cell_type": "code",
   "execution_count": 3,
   "id": "308a9772-5dda-4f2f-85f5-82d5d8c73314",
   "metadata": {},
   "outputs": [],
   "source": [
    "sc=pickle.load(open(\"preprocessing_file.sav\",'rb'))"
   ]
  },
  {
   "cell_type": "code",
   "execution_count": 4,
   "id": "49b34610-4e33-43be-9f08-874a9e7e96ab",
   "metadata": {},
   "outputs": [
    {
     "name": "stderr",
     "output_type": "stream",
     "text": [
      "C:\\Anaconda\\Lib\\site-packages\\sklearn\\base.py:493: UserWarning: X does not have valid feature names, but StandardScaler was fitted with feature names\n",
      "  warnings.warn(\n"
     ]
    }
   ],
   "source": [
    "preinput=sc.transform([[30,25,3,1,0]])"
   ]
  },
  {
   "cell_type": "code",
   "execution_count": 5,
   "id": "8fb5f5c7-0bfc-4902-ae26-8229fe0b4070",
   "metadata": {},
   "outputs": [],
   "source": [
    "loaded_model=pickle.load(open(\"preprocess_svm.sav\",'rb'))"
   ]
  },
  {
   "cell_type": "code",
   "execution_count": 6,
   "id": "019dceb5-726d-4058-86f1-78f7ee02fed8",
   "metadata": {},
   "outputs": [
    {
     "data": {
      "text/plain": [
       "array([9537.35750756])"
      ]
     },
     "execution_count": 6,
     "metadata": {},
     "output_type": "execute_result"
    }
   ],
   "source": [
    "result=loaded_model.predict(preinput)\n",
    "result"
   ]
  },
  {
   "cell_type": "code",
   "execution_count": null,
   "id": "f91f9ec6-89a6-4167-aa20-3b4514845131",
   "metadata": {},
   "outputs": [],
   "source": []
  }
 ],
 "metadata": {
  "kernelspec": {
   "display_name": "Python 3 (ipykernel)",
   "language": "python",
   "name": "python3"
  },
  "language_info": {
   "codemirror_mode": {
    "name": "ipython",
    "version": 3
   },
   "file_extension": ".py",
   "mimetype": "text/x-python",
   "name": "python",
   "nbconvert_exporter": "python",
   "pygments_lexer": "ipython3",
   "version": "3.12.4"
  }
 },
 "nbformat": 4,
 "nbformat_minor": 5
}
